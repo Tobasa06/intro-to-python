{
 "cells": [
  {
   "cell_type": "markdown",
   "metadata": {},
   "source": [
    "# INTRO TO PROGRAMMING"
   ]
  },
  {
   "cell_type": "code",
   "execution_count": 1,
   "metadata": {},
   "outputs": [
    {
     "name": "stdout",
     "output_type": "stream",
     "text": [
      "Hello, world\n"
     ]
    }
   ],
   "source": [
    "print(\"Hello, world\")"
   ]
  },
  {
   "cell_type": "markdown",
   "metadata": {},
   "source": [
    "- print() adalah fungsi bawaan Python yang digunakan untuk mencetak atau menampilkan informasi ke konsol atau terminal.\n",
    "- \"Hello, world!\" adalah argumen yang diberikan kepada fungsi print(). \n",
    "- Ketika kode dieksekusi, hasilnya adalah mencetak \"Hello, world!\" ke dalam konsol atau terminal."
   ]
  },
  {
   "cell_type": "code",
   "execution_count": 2,
   "metadata": {},
   "outputs": [
    {
     "name": "stdout",
     "output_type": "stream",
     "text": [
      "3\n"
     ]
    }
   ],
   "source": [
    "print(1 + 2)"
   ]
  },
  {
   "cell_type": "code",
   "execution_count": 3,
   "metadata": {},
   "outputs": [
    {
     "name": "stdout",
     "output_type": "stream",
     "text": [
      "4\n"
     ]
    }
   ],
   "source": [
    "print(9 - 5)\n"
   ]
  },
  {
   "cell_type": "markdown",
   "metadata": {},
   "source": [
    "# ARITMATIKA"
   ]
  },
  {
   "cell_type": "markdown",
   "metadata": {},
   "source": [
    "Kita juga dapat mencetak nilai dari beberapa operasi aritmatika (seperti penambahan, pengurangan, perkalian, atau pembagian).\n",
    "\n",
    "Sebagai contoh, pada sel kode berikut, komputer menambahkan 2 dengan 1 dan kemudian mencetak hasilnya, yang adalah 3. Perlu diperhatikan bahwa berbeda dengan saat kita hanya mencetak teks, kita tidak menggunakan tanda kutip apapun."
   ]
  },
  {
   "cell_type": "code",
   "execution_count": 4,
   "metadata": {},
   "outputs": [
    {
     "name": "stdout",
     "output_type": "stream",
     "text": [
      "196.0\n"
     ]
    }
   ],
   "source": [
    "print(((1 + 3) * (9 - 2) / 2) ** 2)"
   ]
  },
  {
   "cell_type": "markdown",
   "metadata": {},
   "source": [
    "Anda dapat mengontrol urutan operasi dalam perhitungan yang panjang dengan menggunakan tanda kurung."
   ]
  },
  {
   "cell_type": "code",
   "execution_count": 5,
   "metadata": {},
   "outputs": [
    {
     "name": "stdout",
     "output_type": "stream",
     "text": [
      "6\n"
     ]
    }
   ],
   "source": [
    "# Multiply 3 by 2\n",
    "print(3 * 2)\n"
   ]
  },
  {
   "cell_type": "markdown",
   "metadata": {},
   "source": [
    "# COMMENTS"
   ]
  },
  {
   "cell_type": "markdown",
   "metadata": {},
   "source": [
    "\n",
    "Kami menggunakan komentar untuk memberi anotasi tentang apa yang dilakukan oleh kode. Mereka membantu orang lain memahami kode Anda, dan mereka juga dapat membantu jika Anda belum melihat kode Anda dalam waktu yang lama. Sejauh ini, kode yang telah kita tulis sangat singkat, tetapi anotasi menjadi lebih penting ketika Anda telah menulis banyak kode.\n",
    "\n",
    "Sebagai contoh, pada sel kode berikut, kami mengalikan 3 dengan 2. Kami juga menambahkan sebuah komentar (# Kalikan 3 dengan 2) di atas kode untuk menjelaskan apa yang dilakukan oleh kode tersebut."
   ]
  },
  {
   "cell_type": "code",
   "execution_count": 6,
   "metadata": {},
   "outputs": [
    {
     "ename": "SyntaxError",
     "evalue": "invalid syntax (3840778346.py, line 1)",
     "output_type": "error",
     "traceback": [
      "\u001b[1;36m  Cell \u001b[1;32mIn[6], line 1\u001b[1;36m\u001b[0m\n\u001b[1;33m    Multiply 3 by 2\u001b[0m\n\u001b[1;37m             ^\u001b[0m\n\u001b[1;31mSyntaxError\u001b[0m\u001b[1;31m:\u001b[0m invalid syntax\n"
     ]
    }
   ],
   "source": [
    "Multiply 3 by 2\n"
   ]
  },
  {
   "cell_type": "markdown",
   "metadata": {},
   "source": [
    "Untuk menunjukkan kepada Python bahwa suatu baris adalah komentar (dan bukan kode Python), Anda perlu menulis tanda pagar (#) sebagai karakter pertama.\n",
    "\n",
    "Setelah Python melihat tanda pagar dan mengenali bahwa baris tersebut adalah komentar, komputer akan sepenuhnya mengabaikannya. Ini penting, karena sama seperti Bahasa Inggris atau Hindi (atau bahasa lainnya!), Python adalah bahasa dengan aturan yang sangat ketat yang harus diikuti. Python lebih ketat daripada pendengar manusia, dan akan menghasilkan kesalahan jika tidak dapat memahami kode tersebut.\n",
    "\n",
    "Kita dapat melihat contoh ini, dalam sel kode di atas ini. Python akan menghasilkan kesalahan jika kita menghapus tanda pagar, karena teks dalam komentar bukan kode Python yang valid, sehingga tidak dapat diinterpretasikan dengan benar."
   ]
  },
  {
   "cell_type": "code",
   "execution_count": 7,
   "metadata": {},
   "outputs": [
    {
     "name": "stdout",
     "output_type": "stream",
     "text": [
      "9\n"
     ]
    }
   ],
   "source": [
    "# Create a variable called test_var and give it a value of 4+5\n",
    "test_var = 4 + 5\n",
    "\n",
    "# Print the value of test_var\n",
    "print(test_var)"
   ]
  },
  {
   "cell_type": "markdown",
   "metadata": {
    "slideshow": {
     "slide_type": "notes"
    }
   },
   "source": [
    "# Variables"
   ]
  },
  {
   "cell_type": "markdown",
   "metadata": {},
   "source": [
    "Creating variables"
   ]
  },
  {
   "cell_type": "markdown",
   "metadata": {},
   "source": [
    "Sel Selanjutnya membuat variabel bernama test_var dan memberikannya nilai yang kita dapatkan saat kita menambahkan 5 dengan 4.\n",
    "\n",
    "Kemudian kita mencetak nilai yang diberikan kepada variabel tersebut, yaitu 9.\n",
    "\n",
    "\n",
    "\n",
    "\n"
   ]
  },
  {
   "cell_type": "markdown",
   "metadata": {},
   "source": [
    "Secara umum, untuk bekerja dengan variabel, Kita perlu memulainya dengan memilih nama yang ingin Kita gunakan. Nama variabel sebaiknya singkat dan deskriptif. Mereka juga perlu memenuhi beberapa persyaratan:\n",
    "\n",
    "Mereka tidak boleh memiliki spasi (misalnya, test var tidak diperbolehkan).\n",
    "Mereka hanya dapat mencakup huruf, angka, dan garis bawah (misalnya, test_var! tidak diperbolehkan).\n",
    "Mereka harus dimulai dengan huruf atau garis bawah (misalnya, 1_var tidak diperbolehkan).\n",
    "Kemudian, untuk membuat variabel, Anda perlu menggunakan tanda sama dengan (=) untuk memberikan nilai yang Kita inginkan.\n",
    "\n",
    "Kita selalu dapat melihat nilai yang diberikan kepada variabel dengan menggunakan print() dan menempatkan nama variabel dalam tanda kurung."
   ]
  },
  {
   "cell_type": "markdown",
   "metadata": {},
   "source": [
    "# MANIPULATING VARIABLES\n",
    "\n",
    "Kita selalu dapat mengubah nilai yang diberikan kepada suatu variabel dengan menimpanya dengan nilai yang baru.\n",
    "\n",
    "Pada sel kode di bawah ini, kita mengubah nilai my_var dari 3 menjadi 100.\n",
    "\n",
    "\n",
    "\n",
    "\n"
   ]
  },
  {
   "cell_type": "code",
   "execution_count": 8,
   "metadata": {},
   "outputs": [
    {
     "name": "stdout",
     "output_type": "stream",
     "text": [
      "3\n",
      "100\n"
     ]
    }
   ],
   "source": [
    "# Set the value of a new variable to 3\n",
    "my_var = 3\n",
    "\n",
    "# Print the value assigned to my_var\n",
    "print(my_var)\n",
    "\n",
    "# Change the value of the variable to 100\n",
    "my_var = 100\n",
    "\n",
    "# Print the new value assigned to my_var\n",
    "print(my_var)"
   ]
  },
  {
   "cell_type": "markdown",
   "metadata": {},
   "source": [
    "Catat bahwa secara umum, setiap kali kita mendefinisikan sebuah variabel dalam sebuah sel kode, semua sel kode yang mengikuti juga memiliki akses ke variabel tersebut. Sebagai contoh, kita menggunakan sel kode berikut untuk mengakses nilai dari my_var (dari sel kode di atas) dan test_var (dari sebelumnya dalam tutorial ini)."
   ]
  },
  {
   "cell_type": "code",
   "execution_count": 9,
   "metadata": {},
   "outputs": [
    {
     "name": "stdout",
     "output_type": "stream",
     "text": [
      "100\n",
      "9\n"
     ]
    }
   ],
   "source": [
    "print(my_var)\n",
    "print(test_var)"
   ]
  },
  {
   "cell_type": "markdown",
   "metadata": {},
   "source": [
    "Sel Selanjutnya memberitahu Python untuk meningkatkan nilai saat ini dari my_var sebesar 3.\n",
    "\n",
    "Untuk melakukannya, kita masih perlu menggunakan my_var = seperti sebelumnya. Dan juga seperti sebelumnya, nilai baru yang ingin kita berikan kepada variabel berada di sebelah kanan tanda =."
   ]
  },
  {
   "cell_type": "code",
   "execution_count": 10,
   "metadata": {},
   "outputs": [
    {
     "name": "stdout",
     "output_type": "stream",
     "text": [
      "103\n"
     ]
    }
   ],
   "source": [
    "# Increase the value by 3\n",
    "my_var = my_var + 3\n",
    "\n",
    "# Print the value assigned to my_var\n",
    "print(my_var)"
   ]
  },
  {
   "cell_type": "markdown",
   "metadata": {},
   "source": [
    "# USING MULTIPLE VARIABLES\n",
    "\n",
    "\n",
    "Biasanya kode menggunakan beberapa variabel. Hal ini sangat berguna ketika kita harus melakukan perhitungan panjang dengan beberapa masukan.\n",
    "\n",
    "Pada sel kode berikut, kita menghitung jumlah detik dalam empat tahun. Perhitungan ini menggunakan lima masukan."
   ]
  },
  {
   "cell_type": "code",
   "execution_count": 11,
   "metadata": {},
   "outputs": [
    {
     "name": "stdout",
     "output_type": "stream",
     "text": [
      "126144000\n"
     ]
    }
   ],
   "source": [
    "# Create variables\n",
    "num_years = 4\n",
    "days_per_year = 365 \n",
    "hours_per_day = 24\n",
    "mins_per_hour = 60\n",
    "secs_per_min = 60\n",
    "\n",
    "# Calculate number of seconds in four years\n",
    "total_secs = secs_per_min * mins_per_hour * hours_per_day * days_per_year * num_years\n",
    "print(total_secs)"
   ]
  },
  {
   "cell_type": "markdown",
   "metadata": {},
   "source": [
    "Seperti yang dihitung di atas, ada 126.144.000 detik dalam empat tahun.\n",
    "\n",
    "Perlu diperhatikan bahwa memungkinkan untuk melakukan perhitungan ini tanpa menggunakan variabel hanya dengan 60 * 60 * 24 * 365 * 4, namun jauh lebih sulit untuk memeriksa bahwa perhitungan tanpa variabel tersebut tidak memiliki kesalahan, karena tidak semudah dibaca. Ketika kita menggunakan variabel (seperti num_years, days_per_year, dll), kita dapat lebih mudah melacak setiap bagian dari perhitungan dan lebih mudah memeriksa dan memperbaiki kesalahan.\n",
    "\n",
    "Perlu dicatat bahwa sangat berguna untuk menggunakan variabel ketika nilai-nilai dari masukan dapat berubah. Misalnya, katakanlah kita ingin sedikit meningkatkan perkiraan kita dengan memperbarui nilai jumlah hari dalam satu tahun dari 365 menjadi 365,25, untuk memperhitungkan tahun kabisat. Kemudian kita dapat mengubah nilai yang diberikan kepada days_per_year tanpa mengubah variabel lainnya dan mengulangi perhitungan."
   ]
  },
  {
   "cell_type": "code",
   "execution_count": 12,
   "metadata": {},
   "outputs": [
    {
     "name": "stdout",
     "output_type": "stream",
     "text": [
      "126230400.0\n"
     ]
    }
   ],
   "source": [
    "# Update to include leap years\n",
    "days_per_year = 365.25\n",
    "\n",
    "# Calculate number of seconds in four years\n",
    "total_secs = secs_per_min * mins_per_hour * hours_per_day * days_per_year * num_years\n",
    "print(total_secs)"
   ]
  },
  {
   "cell_type": "markdown",
   "metadata": {},
   "source": [
    "Angka 0 ditambahkan di akhir angka, yang mungkin terlihat tidak perlu. Ini disebabkan oleh fakta bahwa dalam perhitungan kedua, kita menggunakan angka dengan bagian pecahan (365,25), sedangkan perhitungan pertama hanya mengalikan angka tanpa bagian pecahan. Anda akan mempelajari lebih lanjut tentang hal ini di Pelajaran 3, ketika kita membahas tentang tipe data."
   ]
  },
  {
   "cell_type": "markdown",
   "metadata": {},
   "source": [
    "# DEBUGGING   \n",
    "\n",
    "Salah satu kesalahan umum saat bekerja dengan variabel adalah secara tidak sengaja membuat typo. Misalnya, jika kita mengeja hours_per_day sebagai hours_per_dy, Python akan menghasilkan kesalahan dengan pesan NameError: name 'hours_per_dy' is not defined."
   ]
  },
  {
   "cell_type": "code",
   "execution_count": 13,
   "metadata": {},
   "outputs": [
    {
     "ename": "NameError",
     "evalue": "name 'hours_per_dy' is not defined",
     "output_type": "error",
     "traceback": [
      "\u001b[1;31m---------------------------------------------------------------------------\u001b[0m",
      "\u001b[1;31mNameError\u001b[0m                                 Traceback (most recent call last)",
      "Cell \u001b[1;32mIn[13], line 1\u001b[0m\n\u001b[1;32m----> 1\u001b[0m \u001b[38;5;28mprint\u001b[39m(\u001b[43mhours_per_dy\u001b[49m)\n",
      "\u001b[1;31mNameError\u001b[0m: name 'hours_per_dy' is not defined"
     ]
    }
   ],
   "source": [
    "print(hours_per_dy)"
   ]
  },
  {
   "cell_type": "markdown",
   "metadata": {},
   "source": [
    "NameError seperti ini adalah indikasi bahwa kita harus memeriksa bagaimana kita telah mengeja variabel yang dirujuk sebagai \"not defined\". Kemudian, untuk memperbaiki kesalahan tersebut, kita hanya perlu memperbaiki pengejaannya.\n",
    "\n",
    "\n",
    "\n",
    "\n"
   ]
  },
  {
   "cell_type": "code",
   "execution_count": 14,
   "metadata": {},
   "outputs": [
    {
     "name": "stdout",
     "output_type": "stream",
     "text": [
      "24\n"
     ]
    }
   ],
   "source": [
    "print(hours_per_day)"
   ]
  }
 ],
 "metadata": {
  "kernelspec": {
   "display_name": "Python 3",
   "language": "python",
   "name": "python3"
  },
  "language_info": {
   "codemirror_mode": {
    "name": "ipython",
    "version": 3
   },
   "file_extension": ".py",
   "mimetype": "text/x-python",
   "name": "python",
   "nbconvert_exporter": "python",
   "pygments_lexer": "ipython3",
   "version": "3.11.1"
  }
 },
 "nbformat": 4,
 "nbformat_minor": 2
}
