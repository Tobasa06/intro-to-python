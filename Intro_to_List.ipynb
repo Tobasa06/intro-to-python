{
 "cells": [
  {
   "cell_type": "markdown",
   "metadata": {},
   "source": [
    "# Intro to Lists"
   ]
  },
  {
   "cell_type": "markdown",
   "metadata": {},
   "source": [
    "Organize your data so you can work with it efficiently."
   ]
  },
  {
   "cell_type": "code",
   "execution_count": 4,
   "metadata": {},
   "outputs": [
    {
     "name": "stdout",
     "output_type": "stream",
     "text": [
      "<class 'str'>\n",
      "pink primrose,hard-leaved pocket orchid,canterbury bells,sweet pea,english marigold,tiger lily,moon orchid,bird of paradise,monkshood,globe thistle\n"
     ]
    }
   ],
   "source": [
    "flowers = \"pink primrose,hard-leaved pocket orchid,canterbury bells,sweet pea,english marigold,tiger lily,moon orchid,bird of paradise,monkshood,globe thistle\"\n",
    "\n",
    "print(type(flowers))\n",
    "print(flowers)"
   ]
  },
  {
   "cell_type": "markdown",
   "metadata": {},
   "source": [
    "Penjelasan Kode\n",
    "1. 'flowers = \"pink primrose,hard-leaved pocket orchid,canterbury bells,sweet pea,english marigold,tiger lily,moon orchid,bird of paradise,monkshood,globe thistle\"'\n",
    "\n",
    "- Variabel flowers diinisialisasi dengan string yang berisi daftar nama bunga yang dipisahkan oleh koma.\n",
    "\n",
    "2. 'print(type(flowers))': Menggunakan fungsi type() untuk menampilkan jenis (tipe) data dari variabel flowers.\n",
    "Hasilnya akan menampilkan <class 'str'>, yang berarti flowers adalah string.\n",
    "\n",
    "3. 'print(flowers)': Mencetak isi dari variabel flowers, yaitu daftar nama-nama bunga yang tersimpan dalam bentuk string.\n",
    "\n",
    "Kode ini akan mencetak jenis data dari variabel flowers (yang seharusnya adalah string) dan kemudian mencetak semua nama bunga yang tersimpan dalam variabel tersebut."
   ]
  },
  {
   "cell_type": "code",
   "execution_count": 5,
   "metadata": {},
   "outputs": [
    {
     "name": "stdout",
     "output_type": "stream",
     "text": [
      "<class 'list'>\n",
      "['pink primrose', 'hard-leaved pocket orchid', 'canterbury bells', 'sweet pea', 'english marigold', 'tiger lily', 'moon orchid', 'bird of paradise', 'monkshood', 'globe thistle']\n"
     ]
    }
   ],
   "source": [
    "flowers_list = [\"pink primrose\", \"hard-leaved pocket orchid\", \"canterbury bells\", \"sweet pea\", \"english marigold\", \"tiger lily\", \"moon orchid\", \"bird of paradise\", \"monkshood\", \"globe thistle\"]\n",
    "\n",
    "print(type(flowers_list))\n",
    "print(flowers_list)"
   ]
  },
  {
   "cell_type": "markdown",
   "metadata": {},
   "source": [
    "Penjelasan Kode\n",
    "\n",
    "1. 'flowers_list = [\"pink primrose\", \"hard-leaved pocket orchid\", \"canterbury bells\", \"sweet pea\", \"english marigold\", \"tiger lily\", \"moon orchid\", \"bird of paradise\", \"monkshood\", \"globe thistle\"]'\n",
    "- Variabel flowers_list diinisialisasi dengan daftar (list) yang berisi nama-nama bunga.\n",
    "Setiap nama bunga disimpan sebagai elemen terpisah dalam daftar menggunakan tanda koma dan diapit oleh tanda kutip ganda.\n",
    "\n",
    "2. 'print(type(flowers_list))' : Menggunakan fungsi type() untuk menampilkan jenis (tipe) data dari variabel flowers_list.\n",
    "Hasilnya akan menampilkan <class 'list'>, yang berarti flowers_list adalah list.\n",
    "3. 'print(flowers_list)' : Mencetak isi dari variabel flowers_list, yaitu daftar nama-nama bunga yang tersimpan dalam bentuk list.\n",
    "\n",
    "Kode ini akan mencetak jenis data dari variabel flowers_list (yang seharusnya adalah list) dan kemudian mencetak semua nama bunga yang tersimpan dalam variabel tersebut."
   ]
  },
  {
   "cell_type": "markdown",
   "metadata": {},
   "source": [
    "## List"
   ]
  },
  {
   "cell_type": "markdown",
   "metadata": {},
   "source": [
    "### Length"
   ]
  },
  {
   "cell_type": "code",
   "execution_count": 6,
   "metadata": {},
   "outputs": [
    {
     "name": "stdout",
     "output_type": "stream",
     "text": [
      "10\n"
     ]
    }
   ],
   "source": [
    "# The list has ten entries\n",
    "print(len(flowers_list))"
   ]
  },
  {
   "cell_type": "markdown",
   "metadata": {},
   "source": [
    "Penjelasan Kode : \n",
    "\n",
    "'print(len(flowers_list))' : \n",
    "- Fungsi 'len()' digunakan untuk menghitung jumlah elemen dalam daftar flowers_list.\n",
    "- Nilai yang dihasilkan akan mencetak jumlah total elemen dalam 'flowers_list', dalam hal ini, akan mencetak angka 10, yang menunjukkan bahwa ada sepuluh entri dalam daftar tersebut."
   ]
  },
  {
   "cell_type": "markdown",
   "metadata": {},
   "source": [
    "### Indexing"
   ]
  },
  {
   "cell_type": "code",
   "execution_count": 7,
   "metadata": {},
   "outputs": [
    {
     "name": "stdout",
     "output_type": "stream",
     "text": [
      "First entry: pink primrose\n",
      "Second entry: hard-leaved pocket orchid\n",
      "Last entry: globe thistle\n"
     ]
    }
   ],
   "source": [
    "print(\"First entry:\", flowers_list[0])\n",
    "print(\"Second entry:\", flowers_list[1])\n",
    "\n",
    "# The list has length ten, so we refer to final entry with 9\n",
    "print(\"Last entry:\", flowers_list[9])"
   ]
  },
  {
   "cell_type": "markdown",
   "metadata": {},
   "source": [
    "Penjelasan Kode : \n",
    "\n",
    "1. 'print(\"First entry:\", flowers_list[0])'\n",
    "- Mencetak elemen pertama dari flowers_list dengan indeks 0.\n",
    "- Ini akan mencetak teks \"First entry:\" diikuti dengan nilai dari elemen pertama dalam daftar 'flowers_list'.\n",
    "\n",
    "2. 'print(\"Second entry:\", flowers_list[1])'\n",
    "- Mencetak elemen kedua dari 'flowers_list' dengan indeks 1.\n",
    "- Ini akan mencetak teks \"Second entry:\" diikuti dengan nilai dari elemen kedua dalam daftar 'flowers_list'.\n",
    "\n",
    "3. 'print(\"Last entry:\", flowers_list[9])'\n",
    "- Mencetak elemen terakhir dari 'flowers_list' dengan indeks 9.\n",
    "- Komentar di atas baris ini menjelaskan bahwa daftar memiliki panjang sepuluh, sehingga elemen terakhir diakses dengan indeks 9.\n",
    "- Ini akan mencetak teks \"Last entry:\" diikuti dengan nilai dari elemen terakhir dalam daftar 'flowers_list'."
   ]
  },
  {
   "cell_type": "markdown",
   "metadata": {},
   "source": [
    "### Slicing"
   ]
  },
  {
   "cell_type": "code",
   "execution_count": 8,
   "metadata": {},
   "outputs": [
    {
     "name": "stdout",
     "output_type": "stream",
     "text": [
      "First three entries: ['pink primrose', 'hard-leaved pocket orchid', 'canterbury bells']\n",
      "Final two entries: ['monkshood', 'globe thistle']\n"
     ]
    }
   ],
   "source": [
    "print(\"First three entries:\", flowers_list[:3])\n",
    "print(\"Final two entries:\", flowers_list[-2:])"
   ]
  },
  {
   "cell_type": "markdown",
   "metadata": {},
   "source": [
    "Penjelasan Kode :\n",
    "\n",
    "1. 'print(\"First three entries:\", flowers_list[:3])' :\n",
    "- Kode ini menggunakan slicing untuk mendapatkan tiga elemen pertama dari 'flowers_list'.\n",
    "- Slicing dilakukan dengan menggunakan indeks '[:3]', yang berarti mengambil elemen dari indeks 0 (inklusif) hingga indeks 3 (eksklusif).\n",
    "- Ini akan mencetak teks \"First three entries:\" diikuti dengan tiga elemen pertama dari 'flowers_list'.\n",
    "2. 'print(\"Final two entries:\", flowers_list[-2:])' :\n",
    "- kode ini menggunakan slicing untuk mendapatkan dua elemen terakhir dari 'flowers_list'.\n",
    "- Slicing dilakukan dengan menggunakan indeks '[-2:]', yang berarti mengambil dua elemen dari dua indeks terakhir sampai indeks terakhir.\n",
    "- Ini akan mencetak teks \"Final two entries:\" diikuti dengan dua elemen terakhir dari 'flowers_list'."
   ]
  },
  {
   "cell_type": "markdown",
   "metadata": {},
   "source": [
    "### Removing items"
   ]
  },
  {
   "cell_type": "markdown",
   "metadata": {},
   "source": [
    "Perintah ini akan menghapus elemen \"globe thistle\" dari daftar flowers_list dan kemudian mencetak daftar baru setelah penghapusan. "
   ]
  },
  {
   "cell_type": "code",
   "execution_count": 9,
   "metadata": {},
   "outputs": [
    {
     "name": "stdout",
     "output_type": "stream",
     "text": [
      "['pink primrose', 'hard-leaved pocket orchid', 'canterbury bells', 'sweet pea', 'english marigold', 'tiger lily', 'moon orchid', 'bird of paradise', 'monkshood']\n"
     ]
    }
   ],
   "source": [
    "flowers_list.remove(\"globe thistle\")\n",
    "print(flowers_list)"
   ]
  },
  {
   "cell_type": "markdown",
   "metadata": {},
   "source": [
    "Penjelasan Kode : \n",
    "- 'flowers_list.remove(\"globe thistle\")' kode ini Menggunakan metode '.remove()' untuk menghapus elemen \"globe thistle\" dari 'flowers_list'.\n",
    "Jika ada beberapa entri dengan nilai yang sama, metode .remove() akan menghapus hanya entri pertama yang ditemukan.\n",
    "- 'print(flowers_list)' kode ini digunakan untuk mencetak daftar baru setelah penghapusan elemen \"globe thistle\"."
   ]
  },
  {
   "cell_type": "markdown",
   "metadata": {},
   "source": [
    "### Adding items"
   ]
  },
  {
   "cell_type": "markdown",
   "metadata": {},
   "source": [
    "Perintah ini akan menambahkan elemen baru \"snapdragon\" ke dalam daftar flowers_list, dan kemudian mencetak daftar tersebut"
   ]
  },
  {
   "cell_type": "code",
   "execution_count": 10,
   "metadata": {},
   "outputs": [
    {
     "name": "stdout",
     "output_type": "stream",
     "text": [
      "['pink primrose', 'hard-leaved pocket orchid', 'canterbury bells', 'sweet pea', 'english marigold', 'tiger lily', 'moon orchid', 'bird of paradise', 'monkshood', 'snapdragon']\n"
     ]
    }
   ],
   "source": [
    "flowers_list.append(\"snapdragon\")\n",
    "print(flowers_list)"
   ]
  },
  {
   "cell_type": "markdown",
   "metadata": {},
   "source": [
    "Penjelasan Kode : \n",
    "1. 'flowers_list.append(\"snapdragon\")'\n",
    "- Menggunakan metode '.append()' untuk menambahkan elemen baru \"snapdragon\" ke dalam daftar flowers_list.\n",
    "- Elemen \"snapdragon\" akan ditambahkan ke akhir daftar.\n",
    "2. 'print(flowers_list)'\n",
    "- Mencetak daftar flowers_list yang telah diperbarui dengan tambahan elemen \"snapdragon\"."
   ]
  },
  {
   "cell_type": "markdown",
   "metadata": {},
   "source": [
    "### Lists are not just for strings"
   ]
  },
  {
   "cell_type": "code",
   "execution_count": 11,
   "metadata": {},
   "outputs": [],
   "source": [
    "hardcover_sales = [139, 128, 172, 139, 191, 168, 170]"
   ]
  },
  {
   "cell_type": "markdown",
   "metadata": {},
   "source": [
    "Di sini, hardcover_sales adalah sebuah daftar bilangan bulat. Mirip dengan saat bekerja dengan string, Anda masih dapat melakukan hal-hal seperti mendapatkan panjangnya, menarik entri individual, dan memperpanjang daftar."
   ]
  },
  {
   "cell_type": "code",
   "execution_count": 12,
   "metadata": {},
   "outputs": [
    {
     "name": "stdout",
     "output_type": "stream",
     "text": [
      "Length of the list: 7\n",
      "Entry at index 2: 172\n"
     ]
    }
   ],
   "source": [
    "print(\"Length of the list:\", len(hardcover_sales))\n",
    "print(\"Entry at index 2:\", hardcover_sales[2])"
   ]
  },
  {
   "cell_type": "markdown",
   "metadata": {},
   "source": [
    "Penjelasan Kode ; \n",
    "1. 'print(\"Length of the list:\", len(hardcover_sales))'\n",
    "\n",
    "- Kode ini menggunakan fungsi 'len()' untuk menghitung jumlah elemen dalam daftar 'hardcover_sales'.\n",
    "- Hasilnya akan mencetak panjang daftar hardcover_sales, yang merupakan jumlah total entri dalam daftar tersebut.\n",
    "2. 'print(\"Entry at index 2:\", hardcover_sales[2])'\n",
    "\n",
    "- kode ini digunakan untuk mengakses elemen di indeks 2 dari daftar 'hardcover_sales' menggunakan indeks '[2]'.\n",
    "- Hasilnya akan mencetak nilai entri di indeks 2 dari daftar 'hardcover_sales'. Indeks dimulai dari 0, sehingga elemen pada indeks 2 adalah elemen ketiga dalam daftar.\n",
    "\n",
    "\n",
    "\n",
    "\n"
   ]
  },
  {
   "cell_type": "markdown",
   "metadata": {},
   "source": [
    "Anda juga bisa mendapatkan nilai minimum dengan min() dan maksimum dengan max()."
   ]
  },
  {
   "cell_type": "code",
   "execution_count": 13,
   "metadata": {},
   "outputs": [
    {
     "name": "stdout",
     "output_type": "stream",
     "text": [
      "Minimum: 128\n",
      "Maximum: 191\n"
     ]
    }
   ],
   "source": [
    "print(\"Minimum:\", min(hardcover_sales))\n",
    "print(\"Maximum:\", max(hardcover_sales))"
   ]
  },
  {
   "cell_type": "markdown",
   "metadata": {},
   "source": [
    "Kode diatas digunakan untuk mencari nilai minimum dan maksimum dalam daftar hardcover_sales"
   ]
  },
  {
   "cell_type": "markdown",
   "metadata": {},
   "source": [
    "untuk menambahkan setiap item dalam daftar, gunakan sum()."
   ]
  },
  {
   "cell_type": "code",
   "execution_count": 14,
   "metadata": {},
   "outputs": [
    {
     "name": "stdout",
     "output_type": "stream",
     "text": [
      "Total books sold in one week: 1107\n"
     ]
    }
   ],
   "source": [
    "print(\"Total books sold in one week:\", sum(hardcover_sales))"
   ]
  },
  {
   "cell_type": "markdown",
   "metadata": {},
   "source": [
    "Kode tesebut digunakan untuk menghitung total penjualan buku hardcover dalam satu minggu dengan menggunakan fungsi sum() untuk menjumlahkan semua nilai dalam daftar hardcover_sales."
   ]
  },
  {
   "cell_type": "code",
   "execution_count": 15,
   "metadata": {},
   "outputs": [
    {
     "name": "stdout",
     "output_type": "stream",
     "text": [
      "Average books sold in first five days: 153.8\n"
     ]
    }
   ],
   "source": [
    "print(\"Average books sold in first five days:\", sum(hardcover_sales[:5])/5)"
   ]
  },
  {
   "cell_type": "markdown",
   "metadata": {},
   "source": [
    "Kode tersebut menghitung rata-rata penjualan buku hardcover dalam lima hari pertama dengan menggunakan slicing untuk mengambil lima elemen pertama dari daftar hardcover_sales, kemudian menjumlahkan nilai-nilai tersebut dan membaginya dengan 5 (jumlah hari)"
   ]
  }
 ],
 "metadata": {
  "kernelspec": {
   "display_name": "Python 3",
   "language": "python",
   "name": "python3"
  },
  "language_info": {
   "codemirror_mode": {
    "name": "ipython",
    "version": 3
   },
   "file_extension": ".py",
   "mimetype": "text/x-python",
   "name": "python",
   "nbconvert_exporter": "python",
   "pygments_lexer": "ipython3",
   "version": "3.10.4"
  }
 },
 "nbformat": 4,
 "nbformat_minor": 2
}
