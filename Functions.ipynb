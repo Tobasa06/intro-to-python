{
 "cells": [
  {
   "cell_type": "markdown",
   "metadata": {},
   "source": [
    "# Introduction"
   ]
  },
  {
   "cell_type": "markdown",
   "metadata": {},
   "source": [
    "\n",
    "Sebuah fungsi adalah blok kode yang dirancang untuk melakukan tugas tertentu. Seperti yang akan Anda lihat, fungsi akan memungkinkan Anda untuk melakukan kira-kira perhitungan yang sama beberapa kali tanpa menggandakan kode apa pun."
   ]
  },
  {
   "cell_type": "markdown",
   "metadata": {},
   "source": [
    "# Intro to functions: a simple example"
   ]
  },
  {
   "cell_type": "code",
   "execution_count": 1,
   "metadata": {},
   "outputs": [],
   "source": [
    "# Define the function\n",
    "def add_three(input_var):\n",
    "    output_var = input_var + 3\n",
    "    return output_var"
   ]
  },
  {
   "cell_type": "markdown",
   "metadata": {},
   "source": []
  },
  {
   "cell_type": "markdown",
   "metadata": {},
   "source": [
    "Setiap fungsi terdiri dari dua bagian: kepala (header) dan tubuh (body).\n",
    "\n",
    "\n",
    "\n",
    "\n"
   ]
  },
  {
   "cell_type": "markdown",
   "metadata": {},
   "source": [
    "# Header\n",
    "Header fungsi mendefinisikan nama fungsi dan argumen-argumennya."
   ]
  },
  {
   "cell_type": "markdown",
   "metadata": {},
   "source": [
    "# Body\n",
    "\n",
    "Tubuh fungsi menentukan pekerjaan yang dilakukan oleh fungsi tersebut."
   ]
  },
  {
   "cell_type": "markdown",
   "metadata": {},
   "source": [
    "# How to run (or \"call\") a function\n",
    "\n",
    "\n",
    "Ketika kita menjalankan sebuah fungsi, itu juga bisa disebut sebagai \"memanggil\" fungsi tersebut.\n",
    "\n",
    "Pada sel kode di bawah ini, kita menjalankan fungsi dengan menggunakan 10 sebagai nilai masukan. Kita mendefinisikan variabel baru new_number yang diatur dengan keluaran dari fungsi."
   ]
  },
  {
   "cell_type": "code",
   "execution_count": 2,
   "metadata": {},
   "outputs": [
    {
     "name": "stdout",
     "output_type": "stream",
     "text": [
      "13\n"
     ]
    }
   ],
   "source": [
    "# Run the function with 10 as input\n",
    "new_number = add_three(10)\n",
    "\n",
    "# Check that the value is 13, as expected\n",
    "print(new_number)"
   ]
  },
  {
   "cell_type": "markdown",
   "metadata": {},
   "source": [
    "add_three(10) adalah nilai yang kita dapatkan sebagai output saat kita menyediakan 10 sebagai nilai untuk input_var dan memanggil fungsi add_three(). \n",
    "\n",
    "Ketika fungsi dijalankan, semua kode dalam tubuhnya dijalankan, dari atas ke bawah: Pertama-tama, itu menghitung output_var = input_var + 3, yang mengatur output_var = 13.\n",
    "\n",
    "Baris kode terakhir adalah pernyataan return, yang mengembalikan nilai output_var, yang bernilai 13.\n",
    "Dengan mengatur new_number = add_three(10), kita mengatur new_number = 13."
   ]
  },
  {
   "cell_type": "markdown",
   "metadata": {},
   "source": [
    "# Naming functions\n",
    "\n",
    "Pada contoh di atas, nama fungsi telah dipilih untuk Kita. Ketika memberi nama fungsi Kita sendiri, Kita sebaiknya hanya menggunakan huruf kecil, dengan kata-kata yang dipisahkan oleh garis bawah (_) alih-alih spasi.\n",
    "\n",
    "Memberi nama fungsi akan terasa alami seiring waktu, dan wajar jika terasa tidak nyaman pada awalnya. Cara terbaik untuk belajar adalah dengan melihat banyak kode Python."
   ]
  },
  {
   "cell_type": "code",
   "execution_count": 3,
   "metadata": {},
   "outputs": [],
   "source": [
    "def get_pay(num_hours):\n",
    "    # Pre-tax pay, based on receiving $15/hour\n",
    "    pay_pretax = num_hours * 15\n",
    "    # After-tax pay, based on being in 12% tax bracket\n",
    "    pay_aftertax = pay_pretax * (1 - .12)\n",
    "    return pay_aftertax"
   ]
  },
  {
   "cell_type": "markdown",
   "metadata": {},
   "source": [
    "Kita memanggil fungsi ini dengan cara yang sama seperti yang kita lakukan pada fungsi pertama. Sel sel kode berikut menghitung gaji, berdasarkan kerja selama 40 jam. (Setelah dipotong pajak, gajinya adalah $528.)"
   ]
  },
  {
   "cell_type": "code",
   "execution_count": 4,
   "metadata": {},
   "outputs": [
    {
     "name": "stdout",
     "output_type": "stream",
     "text": [
      "528.0\n"
     ]
    }
   ],
   "source": [
    "# Calculate pay based on working 40 hours\n",
    "pay_fulltime = get_pay(40)\n",
    "print(pay_fulltime)"
   ]
  },
  {
   "cell_type": "markdown",
   "metadata": {},
   "source": [
    "Untuk menghitung gaji dengan cepat berdasarkan jumlah jam kerja yang berbeda, Anda perlu menyediakan fungsi dengan jumlah yang berbeda. Misalnya, katakanlah teman Anda bekerja selama 32 jam. (Maka, mereka mendapatkan $422.40.)"
   ]
  },
  {
   "cell_type": "code",
   "execution_count": 5,
   "metadata": {},
   "outputs": [
    {
     "name": "stdout",
     "output_type": "stream",
     "text": [
      "422.4\n"
     ]
    }
   ],
   "source": [
    "pay_parttime = get_pay(32)\n",
    "print(pay_parttime)"
   ]
  },
  {
   "cell_type": "markdown",
   "metadata": {},
   "source": [
    "Fungsi dapat membantu Kita menghindari kesalahan dalam kode Kita, dan Kita dapat menghemat banyak waktu. Secara umum, saat coding, Kita sebaiknya berusaha untuk menulis sesedikit mungkin, karena setiap kali Kita mengetikkan sebuah perhitungan, itu merupakan kesempatan lain untuk secara tidak sengaja memperkenalkan typo atau kesalahan."
   ]
  },
  {
   "cell_type": "markdown",
   "metadata": {},
   "source": [
    "# Variable \"scope\"\n",
    "\n",
    "\n",
    "Variabel yang didefinisikan di dalam tubuh fungsi tidak dapat diakses di luar fungsi. Misalnya, sel kode berikut menghasilkan kesalahan, karena pay_aftertax hanya ada di dalam fungsi."
   ]
  },
  {
   "cell_type": "code",
   "execution_count": 6,
   "metadata": {},
   "outputs": [
    {
     "ename": "NameError",
     "evalue": "name 'pay_aftertax' is not defined",
     "output_type": "error",
     "traceback": [
      "\u001b[1;31m---------------------------------------------------------------------------\u001b[0m",
      "\u001b[1;31mNameError\u001b[0m                                 Traceback (most recent call last)",
      "Cell \u001b[1;32mIn[6], line 1\u001b[0m\n\u001b[1;32m----> 1\u001b[0m \u001b[38;5;28mprint\u001b[39m(\u001b[43mpay_aftertax\u001b[49m)\n",
      "\u001b[1;31mNameError\u001b[0m: name 'pay_aftertax' is not defined"
     ]
    }
   ],
   "source": [
    "print(pay_aftertax)"
   ]
  },
  {
   "cell_type": "markdown",
   "metadata": {},
   "source": [
    "Kita akan mendapatkan kesalahan yang sama jika Kita mencoba untuk mencetak pay_pretax atau num_hours. Untuk alasan ini, jika Kita membutuhkan informasi apa pun dari suatu fungsi, Kita perlu memastikan bahwa itu muncul dalam pernyataan return di akhir fungsi."
   ]
  },
  {
   "cell_type": "markdown",
   "metadata": {},
   "source": [
    "# Functions with multiple arguments\n",
    "\n",
    "Untuk mendefinisikan sebuah fungsi dengan beberapa argumen, Anda hanya perlu menambahkan argumen tambahan di dalam tanda kurung pada kepala fungsi dan memisahkannya dengan koma."
   ]
  },
  {
   "cell_type": "code",
   "execution_count": 7,
   "metadata": {},
   "outputs": [],
   "source": [
    "def get_pay_with_more_inputs(num_hours, hourly_wage, tax_bracket):\n",
    "    # Pre-tax pay\n",
    "    pay_pretax = num_hours * hourly_wage\n",
    "    # After-tax pay\n",
    "    pay_aftertax = pay_pretax * (1 - tax_bracket)\n",
    "    return pay_aftertax"
   ]
  },
  {
   "cell_type": "markdown",
   "metadata": {},
   "source": [
    "Kemudian, untuk memanggil fungsi, Anda perlu menyediakan satu nilai untuk setiap masukan, lagi-lagi dipisahkan dengan koma.\n",
    "\n",
    "Pada sel kode di bawah ini, kita menghitung gaji setelah pajak untuk seseorang yang bekerja selama 40 jam, mendapatkan $24/jam, dan berada dalam tarif pajak 22%."
   ]
  },
  {
   "cell_type": "code",
   "execution_count": 8,
   "metadata": {},
   "outputs": [
    {
     "name": "stdout",
     "output_type": "stream",
     "text": [
      "748.8000000000001\n"
     ]
    }
   ],
   "source": [
    "higher_pay_aftertax = get_pay_with_more_inputs(40, 24, .22)\n",
    "print(higher_pay_aftertax)"
   ]
  },
  {
   "cell_type": "markdown",
   "metadata": {},
   "source": [
    "Sel sel kode berikut memberikan hasil yang sama dengan ketika kita menjalankan get_pay(40), karena hourly_wage diatur menjadi 15, dan tax_bracket diatur menjadi 12%, yang sesuai dengan bagaimana kita merancang get_pay."
   ]
  },
  {
   "cell_type": "code",
   "execution_count": 9,
   "metadata": {},
   "outputs": [
    {
     "name": "stdout",
     "output_type": "stream",
     "text": [
      "528.0\n"
     ]
    }
   ],
   "source": [
    "same_pay_fulltime = get_pay_with_more_inputs(40, 15, .12)\n",
    "print(same_pay_fulltime)"
   ]
  },
  {
   "cell_type": "markdown",
   "metadata": {},
   "source": [
    "# Functions with no arguments"
   ]
  },
  {
   "cell_type": "markdown",
   "metadata": {},
   "source": [
    "Perhatikan bahwa Anda dapat mendefinisikan fungsi tanpa argumen, dan tidak memiliki pernyataan pengembalian. Fungsi print_hello() pada sel kode di bawah ini adalah sebuah contoh."
   ]
  },
  {
   "cell_type": "code",
   "execution_count": 1,
   "metadata": {},
   "outputs": [
    {
     "name": "stdout",
     "output_type": "stream",
     "text": [
      "Hello, you!\n",
      "Good morning!\n"
     ]
    }
   ],
   "source": [
    "# Define the function with no arguments and with no return\n",
    "def print_hello():\n",
    "    print(\"Hello, you!\")\n",
    "    print(\"Good morning!\")\n",
    "    \n",
    "# Call the function\n",
    "print_hello()"
   ]
  }
 ],
 "metadata": {
  "kernelspec": {
   "display_name": "Python 3",
   "language": "python",
   "name": "python3"
  },
  "language_info": {
   "codemirror_mode": {
    "name": "ipython",
    "version": 3
   },
   "file_extension": ".py",
   "mimetype": "text/x-python",
   "name": "python",
   "nbconvert_exporter": "python",
   "pygments_lexer": "ipython3",
   "version": "3.10.4"
  }
 },
 "nbformat": 4,
 "nbformat_minor": 2
}
