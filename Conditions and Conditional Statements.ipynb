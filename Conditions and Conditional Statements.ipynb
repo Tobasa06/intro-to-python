{
 "cells": [
  {
   "cell_type": "markdown",
   "metadata": {},
   "source": [
    "# Conditions and Conditional Statements\n"
   ]
  },
  {
   "cell_type": "markdown",
   "metadata": {},
   "source": [
    "# Introduction"
   ]
  },
  {
   "cell_type": "markdown",
   "metadata": {},
   "source": [
    "Fungsi Dasar: Fungsi seperti add_five selalu melakukan tindakan yang sama (menambah 5) terlepas dari inputnya.\n",
    "Fungsi Bersyarat: Fungsi ini mengubah perilakunya berdasarkan nilai input.\n",
    "\n",
    "Contoh yang diberikan memperkenalkan add_three_or_eight:\n",
    "\n",
    "Jika inputnya kurang dari 10, maka ditambah 3.\n",
    "Jika inputnya 10 atau lebih, maka ditambah 8.\n",
    "Hal ini memerlukan penggunaan pernyataan bersyarat untuk memeriksa input dan menjalankan tindakan yang berbeda berdasarkan hasilnya. Pelajaran ini akan berfokus pada bagaimana menerapkan pernyataan bersyarat ini untuk mencapai fungsionalitas yang bervariasi di dalam fungsi."
   ]
  },
  {
   "cell_type": "markdown",
   "metadata": {},
   "source": [
    "# Conditions"
   ]
  },
  {
   "cell_type": "markdown",
   "metadata": {},
   "source": [
    "Dalam pemrograman, kondisi adalah pernyataan yang bernilai benar atau salah. Ada banyak cara untuk menulis kondisi di Python, tetapi beberapa cara paling umum untuk menulis kondisi hanya membandingkan dua nilai yang berbeda. Misalnya, Anda dapat memeriksa apakah 2 lebih besar dari 3."
   ]
  },
  {
   "cell_type": "code",
   "execution_count": 2,
   "metadata": {},
   "outputs": [
    {
     "name": "stdout",
     "output_type": "stream",
     "text": [
      "False\n"
     ]
    }
   ],
   "source": [
    "print(2 > 3)"
   ]
  },
  {
   "cell_type": "markdown",
   "metadata": {},
   "source": [
    "2 > 3 adalah False karena 2 tidak lebih besar dari 3.\n",
    "var_one < 1 adalah False jika var_one sama dengan atau lebih besar dari 1.\n",
    "var_two >= var_one adalah True jika var_two lebih besar dari atau sama dengan var_one."
   ]
  },
  {
   "cell_type": "code",
   "execution_count": 3,
   "metadata": {},
   "outputs": [
    {
     "name": "stdout",
     "output_type": "stream",
     "text": [
      "False\n",
      "True\n"
     ]
    }
   ],
   "source": [
    "var_one = 1\n",
    "var_two = 2\n",
    "\n",
    "print(var_one < 1)\n",
    "print(var_two >= var_one)"
   ]
  },
  {
   "cell_type": "markdown",
   "metadata": {},
   "source": [
    "Kode mendefinisikan 2 variabel: var_one (1) dan var_two (2).\n",
    "Kode mencetak 2 pernyataan:\n",
    "var_one < 1: Membandingkan var_one dengan 1. Hasilnya False karena 1 tidak kurang dari 1.\n",
    "var_two >= var_one: Membandingkan var_two dengan var_one. Hasilnya True karena 2 lebih besar dari 1."
   ]
  },
  {
   "cell_type": "markdown",
   "metadata": {},
   "source": [
    "# Conditional statements\n"
   ]
  },
  {
   "cell_type": "markdown",
   "metadata": {},
   "source": [
    "Pernyataan bersyarat (conditional statements) menggunakan kondisi untuk mengubah cara menjalankan suatu fungsi. Pernyataan ini mengevaluasi nilai dari suatu kondisi.\n",
    "\n",
    "Jika kondisi bernilai True (benar), maka blok kode tertentu akan dijalankan.\n",
    "Jika kondisi bernilai False (salah), maka blok kode tersebut tidak akan dijalankan."
   ]
  },
  {
   "cell_type": "markdown",
   "metadata": {},
   "source": [
    "# \"if\" statements\n",
    "Contoh penggunaannya dapat dilihat pada fungsi evaluate_temp() berikut. Fungsi ini menerima suhu tubuh (dalam Celcius) sebagai input.\n",
    "\n",
    "Diawali dengan penetapan message menjadi \"Normal temperature\".\n",
    "Kemudian, pernyataan if temp > 38 diperiksa:\n",
    "Jika kondisi True (benar) (contoh: suhu tubuh lebih besar dari 38°C), maka pesan akan diperbarui menjadi \"Fever!\".\n",
    "Jika kondisi False (salah), maka pesan \"Normal temperature\" tetap dipertahankan.\n",
    "Terakhir, nilai message yang berisi hasil pemeriksaan dikembalikan oleh fungsi."
   ]
  },
  {
   "cell_type": "code",
   "execution_count": 5,
   "metadata": {},
   "outputs": [],
   "source": [
    "def evaluate_temp(temp):\n",
    "    # Set an initial message\n",
    "    message = \"Normal temperature.\"\n",
    "    # Update value of message only if temperature greater than 38\n",
    "    if temp > 38:\n",
    "        message = \"Fever!\"\n",
    "    return message"
   ]
  },
  {
   "cell_type": "markdown",
   "metadata": {},
   "source": [
    "Pada contoh kode selanjutnya, kita memanggil fungsi evaluate_temp() dengan suhu tubuh 37°C. Hasil yang akan didapatkan adalah pesan \"Normal temperature\".\n",
    "\n",
    "Hal ini dikarenakan pada saat pengecekan kondisi temp > 38, suhunya (37°C) lebih kecil dari 38°C sehingga bernilai False. Karena kondisi bernilai False, pesan \"Normal temperature\" yang sudah ditetapkan sebelumnya tetap dipertahankan dan dikembalikan oleh fungsi."
   ]
  },
  {
   "cell_type": "code",
   "execution_count": 6,
   "metadata": {},
   "outputs": [
    {
     "name": "stdout",
     "output_type": "stream",
     "text": [
      "Normal temperature.\n"
     ]
    }
   ],
   "source": [
    "print(evaluate_temp(37))\n"
   ]
  },
  {
   "cell_type": "markdown",
   "metadata": {},
   "source": [
    "jika suhu tubuh yang dimasukkan adalah 39°C, karena nilainya lebih besar dari 38°C, maka pesan akan diperbarui menjadi \"Fever!\"."
   ]
  },
  {
   "cell_type": "code",
   "execution_count": 7,
   "metadata": {},
   "outputs": [
    {
     "name": "stdout",
     "output_type": "stream",
     "text": [
      "Fever!\n"
     ]
    }
   ],
   "source": [
    "print(evaluate_temp(39))"
   ]
  },
  {
   "cell_type": "markdown",
   "metadata": {},
   "source": [
    "# \"if ... else\" statements\n",
    "\n",
    "Pernyataan \"else\" digunakan untuk menjalankan kode jika suatu pernyataan bernilai False. Sehingga:\n",
    "\n",
    "Kode di bawah pernyataan \"if\" akan dijalankan jika kondisi bernilai True.\n",
    "Kode di bawah pernyataan \"else\" akan dijalankan jika kondisi bernilai False.\n",
    "Dengan menggunakan \"else\", kita dapat menentukan tindakan yang berbeda untuk kedua hasil yang mungkin terjadi pada sebuah kondisi."
   ]
  },
  {
   "cell_type": "code",
   "execution_count": 8,
   "metadata": {},
   "outputs": [],
   "source": [
    "def evaluate_temp_with_else(temp):\n",
    "    if temp > 38:\n",
    "        message = \"Fever!\"\n",
    "    else:\n",
    "        message = \"Normal temperature.\"\n",
    "    return message"
   ]
  },
  {
   "cell_type": "markdown",
   "metadata": {},
   "source": [
    "Memeriksa apakah suhu tubuh (temp) menunjukkan demam.\n",
    "- temp: Suhu tubuh dalam Celcius (angka).\n",
    "- \"Fever!\" jika temp lebih besar dari 38°C (kemungkinan demam).\n",
    "- \"Normal temperature.\" jika temp 38°C atau kurang (suhu normal).\n",
    "\n",
    "Cara Kerja:\n",
    "- Periksa Suhu: Jika temp LEBIH BESAR dari 38°C:\n",
    "- Keluarkan pesan \"Fever!\".\n",
    "- Jika Tidak, Keluarkan pesan \"Normal temperature.\"."
   ]
  },
  {
   "cell_type": "code",
   "execution_count": 9,
   "metadata": {},
   "outputs": [
    {
     "name": "stdout",
     "output_type": "stream",
     "text": [
      "Normal temperature.\n"
     ]
    }
   ],
   "source": [
    "print(evaluate_temp_with_else(37))"
   ]
  },
  {
   "cell_type": "markdown",
   "metadata": {},
   "source": [
    "# \"if ... elif ... else\" statements\n",
    "elif (else if): Digunakan untuk mengecek kondisi tambahan jika kondisi sebelumnya dalam rangkaian \"if\" dan \"elif\" salah (False).\n",
    "Pertama memeriksa apakah temp lebih besar dari 38.\n",
    "- Jika kondisi ini benar (True), maka pesan akan disetel menjadi \"Fever!\".\n",
    "Selama pesan belum disetel, fungsi kemudian memeriksa apakah temp lebih besar dari 35.\n",
    "- Jika kondisi ini benar (True), maka pesan akan disetel menjadi \"Normal temperature.\".\n",
    "- Jika tidak ada pesan yang disetel sebelumnya, pernyataan \"else\" memastikan bahwa pesan disetel menjadi \"Low temperature.\".\n",
    "Intinya, \"elif\" dapat diartikan sebagai: \"Baiklah, kondisi sebelumnya (misalnya, temp > 38) salah, jadi mari kita periksa apakah kondisi baru ini (misalnya, temp > 35) mungkin benar!\"."
   ]
  },
  {
   "cell_type": "code",
   "execution_count": 10,
   "metadata": {},
   "outputs": [],
   "source": [
    "def evaluate_temp_with_elif(temp):\n",
    "    if temp > 38:\n",
    "        message = \"Fever!\"\n",
    "    elif temp > 35:\n",
    "        message = \"Normal temperature.\"\n",
    "    else:\n",
    "        message = \"Low temperature.\"\n",
    "    return message"
   ]
  },
  {
   "cell_type": "markdown",
   "metadata": {},
   "source": [
    "Pada blok kode di bawah ini, dijalankan kode di bawah pernyataan \"elif\" karena temp > 38 bernilai False, dan temp > 35 bernilai True. Setelah kode ini dijalankan, fungsi akan melewati (skip) pernyataan \"else\" dan langsung mengembalikan pesan."
   ]
  },
  {
   "cell_type": "code",
   "execution_count": 11,
   "metadata": {},
   "outputs": [
    {
     "data": {
      "text/plain": [
       "'Normal temperature.'"
      ]
     },
     "execution_count": 11,
     "metadata": {},
     "output_type": "execute_result"
    }
   ],
   "source": [
    "evaluate_temp_with_elif(36)"
   ]
  },
  {
   "cell_type": "markdown",
   "metadata": {},
   "source": [
    "Karena kedua kondisi dalam pernyataan \"if\" dan \"elif\" bernilai False (Salah), maka blok kode di dalam pernyataan \"else\" akan dijalankan."
   ]
  },
  {
   "cell_type": "markdown",
   "metadata": {},
   "source": [
    "# Example - Calculations\n",
    "Pada contoh berikut, misalkan Anda tinggal di negara dengan hanya dua tingkatan pajak. Setiap orang yang berpenghasilan kurang dari 12.000 dikenakan pajak 25%, dan siapa pun yang berpenghasilan 12.000 atau lebih dikenakan pajak 30%. Fungsi di bawah ini menghitung berapa banyak pajak yang terutang."
   ]
  },
  {
   "cell_type": "code",
   "execution_count": 12,
   "metadata": {},
   "outputs": [],
   "source": [
    "def get_taxes(earnings):\n",
    "    if earnings < 12000:\n",
    "        tax_owed = .25 * earnings\n",
    "    else:\n",
    "        tax_owed = .30 * earnings\n",
    "    return tax_owed"
   ]
  },
  {
   "cell_type": "markdown",
   "metadata": {},
   "source": [
    "Baris ini menunjukkan eksekusi fungsi get_tax"
   ]
  },
  {
   "cell_type": "code",
   "execution_count": 13,
   "metadata": {},
   "outputs": [
    {
     "name": "stdout",
     "output_type": "stream",
     "text": [
      "2250.0\n",
      "4500.0\n"
     ]
    }
   ],
   "source": [
    "ana_taxes = get_taxes(9000)\n",
    "bob_taxes = get_taxes(15000)\n",
    "\n",
    "print(ana_taxes)\n",
    "print(bob_taxes)"
   ]
  },
  {
   "cell_type": "markdown",
   "metadata": {},
   "source": [
    "get_taxes():\n",
    "- Digunakan untuk menghitung pajak terutang.\n",
    "- Memeriksa pendapatan (gaji):\n",
    "- Jika gaji < 12000 (True), hitung pajak dengan tarif 25%.\n",
    "- Jika gaji >= 12000 (False), hitung pajak dengan tarif 30% (dengan penyesuaian untuk tarif yang lebih rendah pada 12000 awal).\n",
    "- Mengembalikan nilai pajak terutang.\n",
    "Contoh:\n",
    "- ana_taxes (gaji 9000): Tarif 25%, pajak = 0.25 * 9000.\n",
    "- bob_taxes (gaji 15000): Tarif 30% (dengan penyesuaian), pajak = kalkulasi sesuai rumus di fungsi.\n",
    "\n",
    "add_three_or_eight():\n",
    "- Fungsi ini belum ditampilkan, tetapi Anda perlu menggunakan pernyataan if dan else untuk:\n",
    "Memeriksa jika input (angka) kurang dari 10.\n",
    "Jika True, tambahkan 3.\n",
    "Jika False, tambahkan 8."
   ]
  },
  {
   "cell_type": "markdown",
   "metadata": {},
   "source": [
    "# Example - Multiple \"elif\" statements\n",
    "elif Ganda: Bisa digunakan lebih dari sekali dalam fungsi.\n",
    "Contoh: Kode menghitung dosis obat (ml) berdasarkan berat badan anak (kg).\n",
    "Disclaimer: Ini bukan untuk saran medis, hanya contoh penggunaan elif berulang."
   ]
  },
  {
   "cell_type": "code",
   "execution_count": 15,
   "metadata": {},
   "outputs": [],
   "source": [
    "def get_dose(weight):\n",
    "    # Dosage is 1.25 ml for anyone under 5.2 kg\n",
    "    if weight < 5.2:\n",
    "        dose = 1.25\n",
    "    elif weight < 7.9:\n",
    "        dose = 2.5\n",
    "    elif weight < 10.4:\n",
    "        dose = 3.75\n",
    "    elif weight < 15.9:\n",
    "        dose = 5\n",
    "    elif weight < 21.2:\n",
    "        dose = 7.5\n",
    "    # Dosage is 10 ml for anyone 21.2 kg or over\n",
    "    else:\n",
    "        dose = 10\n",
    "    return dose"
   ]
  },
  {
   "cell_type": "markdown",
   "metadata": {},
   "source": [
    "Evaluasi Kondisi:\n",
    "- Pernyataan \"if\" bernilai False.\n",
    "- Semua \"elif\" dievaluasi False sampai weight < 15.9 bernilai True.\n",
    "elif True:\n",
    "\n",
    "dosis diatur ke 5.\n",
    "- Fungsi melewati semua \"elif\" dan \"else\" selanjutnya.\n",
    "Pengembalian: Fungsi mengembalikan nilai dosis."
   ]
  },
  {
   "cell_type": "code",
   "execution_count": 16,
   "metadata": {},
   "outputs": [
    {
     "name": "stdout",
     "output_type": "stream",
     "text": [
      "5\n"
     ]
    }
   ],
   "source": [
    "print(get_dose(12))\n"
   ]
  }
 ],
 "metadata": {
  "kernelspec": {
   "display_name": "Python 3",
   "language": "python",
   "name": "python3"
  },
  "language_info": {
   "codemirror_mode": {
    "name": "ipython",
    "version": 3
   },
   "file_extension": ".py",
   "mimetype": "text/x-python",
   "name": "python",
   "nbconvert_exporter": "python",
   "pygments_lexer": "ipython3",
   "version": "3.10.4"
  }
 },
 "nbformat": 4,
 "nbformat_minor": 2
}
