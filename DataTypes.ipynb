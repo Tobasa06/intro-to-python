{
 "cells": [
  {
   "cell_type": "markdown",
   "id": "a644dfa3-d855-4e72-825a-d167970b38eb",
   "metadata": {},
   "source": [
    "# Integers\r\n",
    "Integer (int) tipe data bawaan untuk bilangan bulat, bisa positif, nol atau negatif."
   ]
  },
  {
   "cell_type": "code",
   "execution_count": 2,
   "id": "2bb0a286-12ae-4369-8ec9-f180a5a66c7f",
   "metadata": {},
   "outputs": [
    {
     "name": "stdout",
     "output_type": "stream",
     "text": [
      "14\n",
      "<class 'int'>\n"
     ]
    }
   ],
   "source": [
    "x = 14\n",
    "print(x)\n",
    "print(type(x))"
   ]
  },
  {
   "cell_type": "markdown",
   "id": "f3dbaee5-9188-41a5-838e-133f7417a97b",
   "metadata": {},
   "source": [
    "Varibel x\r\n",
    "memberikan nilai integer 14\r\n",
    "\r\n",
    "pada print pertama mencetak nilai x yaitu 14\r\n",
    "Pada pernyataan kedua print, menggunakan type fungsi untuk mendapatkan tipe data x dan kemudian mencetaknya. \r\n",
    "\r\n",
    "Outputnya adalah <class 'int'>, yang menunjukkan bahwa itu x \r\n",
    "adalah bilangan bulat."
   ]
  },
  {
   "cell_type": "markdown",
   "id": "c81aeece-a2bb-498d-8e6c-50249c0c8ff3",
   "metadata": {},
   "source": [
    "# Floats\r\n",
    "Floats adalah bilangan dengan bagian pecahan dan memiliki banyak angka setelah desimal.\r\n",
    "\r\n",
    "Fungsi float untuk mengkonversi representasi bilangan bulat atau string dari angka desimal menjadi float."
   ]
  },
  {
   "cell_type": "code",
   "execution_count": 4,
   "id": "766e7bd4-8acd-4445-ad20-09df7918837c",
   "metadata": {},
   "outputs": [
    {
     "name": "stdout",
     "output_type": "stream",
     "text": [
      "3.141592653589793\n",
      "<class 'float'>\n"
     ]
    }
   ],
   "source": [
    "nearly_pi = 3.141592653589793238462643383279502884197169399375105820974944\n",
    "print(nearly_pi)\n",
    "print(type(nearly_pi))"
   ]
  },
  {
   "cell_type": "markdown",
   "id": "5edb370d-3adf-4e05-8d65-aed84490f497",
   "metadata": {},
   "source": [
    "Nilai sebelah kanan yaitu angka desimal\r\n",
    "Variabel nearly_pi konstanta matematika pi\r\n",
    "\r\n",
    "print(type(nearly_pi)) mmencetak tipe data dari nearly_pi menggunakan fungsi tipe.\r\n",
    "\r\n",
    "nearly_pi bertipe float, yang merupakan tipe data yang digunakan untuk mewakili angka dengan bagian desimal.\r\n"
   ]
  },
  {
   "cell_type": "code",
   "execution_count": 7,
   "id": "ba3cd4e9-dbb8-41f0-8dbf-4efbb5e82b03",
   "metadata": {},
   "outputs": [
    {
     "name": "stdout",
     "output_type": "stream",
     "text": [
      "3.142857142857143\n",
      "<class 'float'>\n"
     ]
    }
   ],
   "source": [
    "almost_pi = 22/7\n",
    "print(almost_pi)\n",
    "print(type(almost_pi))"
   ]
  },
  {
   "cell_type": "markdown",
   "id": "4d88afea-dc66-4576-8687-3160108a162e",
   "metadata": {},
   "source": [
    "Fungsi round() untuk bekerja dengan pecahan dan untuk membulatkan angka ke jumlah tempat desimal tertentu."
   ]
  },
  {
   "cell_type": "code",
   "execution_count": 8,
   "id": "78c4cc43-423d-40b0-be7a-1b23d6c13d20",
   "metadata": {},
   "outputs": [
    {
     "name": "stdout",
     "output_type": "stream",
     "text": [
      "3.14286\n",
      "<class 'float'>\n"
     ]
    }
   ],
   "source": [
    "# Round to 5 decimal places\n",
    "rounded_pi = round(almost_pi, 5)\n",
    "print(rounded_pi)\n",
    "print(type(rounded_pi))"
   ]
  },
  {
   "cell_type": "markdown",
   "id": "d900d371-507d-438f-9605-43f034a58342",
   "metadata": {},
   "source": [
    "rounded_pi : Nilai float yang akan dibulatkan.\n",
    "5: Jumlah tempat desimal untuk dibulatkan\n",
    "Hasil pembulatan ini disimpan dalam variabel rounded_pi.\n",
    "\n",
    "print(type(rounded_pi)) memastikan bahwa tipe data dari rounded_pi masih berupa <class 'float'>. Meskipun nilainya dibulatkan, tetap berupa angka floating-point."
   ]
  },
  {
   "cell_type": "code",
   "execution_count": 9,
   "id": "23ccdbaa-57f6-471d-b437-c8139a095a4f",
   "metadata": {},
   "outputs": [
    {
     "name": "stdout",
     "output_type": "stream",
     "text": [
      "1.0\n",
      "<class 'float'>\n"
     ]
    }
   ],
   "source": [
    "y_float = 1.\n",
    "print(y_float)\n",
    "print(type(y_float))"
   ]
  },
  {
   "cell_type": "markdown",
   "id": "ee66b476-61ad-4135-81ad-aa867813f0f1",
   "metadata": {},
   "source": [
    "# Boolean\n",
    "\n",
    "Boolean adalah tipe data yang digunakan untuk mewakili nilai logika benar atau salah.\n",
    "\n",
    "Fungsi boolean sangat penting untuk mengontrol alur program berdasarkan kondisi. Mereka sering digunakan dalam pernyataan kondisional seperti \"if\", \"elif\", dan \"while\""
   ]
  },
  {
   "cell_type": "code",
   "execution_count": 10,
   "id": "af400c51-2d43-4e13-bbe1-1195e42be134",
   "metadata": {},
   "outputs": [
    {
     "name": "stdout",
     "output_type": "stream",
     "text": [
      "True\n",
      "<class 'bool'>\n"
     ]
    }
   ],
   "source": [
    "z_one = True\n",
    "print(z_one)\n",
    "print(type(z_one))"
   ]
  },
  {
   "cell_type": "markdown",
   "id": "7fd99d7b-55a6-4f4e-bfbd-cef54e2461f1",
   "metadata": {},
   "source": [
    "z_one = True menetapkan True ke variable z_one \n",
    "True adalah kata kunci dalam python yang mewakili status logika benar\n",
    "\n",
    "print(type(z_one)) menampilkan tipe data dari z_one\n",
    "Output <class 'bool'>, yang menunjukkan bahwa z_one memang merupakan variabel boolean.\n"
   ]
  },
  {
   "cell_type": "code",
   "execution_count": 11,
   "id": "d09d3156-0e2a-40ae-ad3b-6453d4a2b631",
   "metadata": {},
   "outputs": [
    {
     "name": "stdout",
     "output_type": "stream",
     "text": [
      "False\n",
      "<class 'bool'>\n"
     ]
    }
   ],
   "source": [
    "z_two = False\n",
    "print(z_two)\n",
    "print(type(z_two))"
   ]
  },
  {
   "cell_type": "code",
   "execution_count": 12,
   "id": "ebcb7106-60ef-4229-803b-648a2bc07ef1",
   "metadata": {},
   "outputs": [
    {
     "name": "stdout",
     "output_type": "stream",
     "text": [
      "True\n",
      "<class 'bool'>\n"
     ]
    }
   ],
   "source": [
    "z_three = (1 < 2)\n",
    "print(z_three)\n",
    "print(type(z_three))"
   ]
  },
  {
   "cell_type": "markdown",
   "id": "c74b71ce-fad3-4b45-ae7b-64d9bb105000",
   "metadata": {},
   "source": [
    "Boolean digunakan untuk mewakili nilai kebenaran dari sebuah ekspresi. Karena \"1 < 2\" adalah pernyataan yang benar, maka \"z_three\" memiliki nilai \"Truebool'>"
   ]
  },
  {
   "cell_type": "code",
   "execution_count": 13,
   "id": "d89f91ae-d061-4b36-9aef-cf4aa7c9131a",
   "metadata": {},
   "outputs": [
    {
     "name": "stdout",
     "output_type": "stream",
     "text": [
      "False\n",
      "<class 'bool'>\n"
     ]
    }
   ],
   "source": [
    "z_four = (5 < 3)\n",
    "print(z_four)\n",
    "print(type(z_four))"
   ]
  },
  {
   "cell_type": "markdown",
   "id": "577a5ad0-9d32-464d-9a4c-a170e7d90035",
   "metadata": {},
   "source": [
    "Baris z_four = (5 < 3) melakukan perbandingan antara 5 dan 3. Karena 5 tidak kurang dari 3, ekspresi bernilai \"False\".\r\n",
    "Nilai \"False\" ini kemudian ditetapkan ke variabelz_fourt."
   ]
  },
  {
   "cell_type": "markdown",
   "id": "71ed1205-5921-47a7-81ea-55ca41a25670",
   "metadata": {},
   "source": [
    "Nilai boolean menggunakan operator not.  Jadi, not True  sama dengan False, dan not False menjadi True."
   ]
  },
  {
   "cell_type": "code",
   "execution_count": 14,
   "id": "40e45f9a-83b8-41a7-85e1-385a3a9a90f4",
   "metadata": {},
   "outputs": [
    {
     "name": "stdout",
     "output_type": "stream",
     "text": [
      "True\n",
      "<class 'bool'>\n"
     ]
    }
   ],
   "source": [
    "z_five = not z_four\n",
    "print(z_five)\n",
    "print(type(z_five))"
   ]
  },
  {
   "cell_type": "markdown",
   "id": "15c86838-595d-4307-b8f0-cc06e9b10381",
   "metadata": {},
   "source": [
    "# String\n",
    "\n",
    "String adalah tipe data yang digunakan untuk menyimpan kumpulan karakter, bisa berupa huruf alfabet, tanda baca, angka, atau simbol.\n",
    "\n",
    "tring selalu diapit oleh tanda kutip ( tunggal atau ganda ), yang menandakan awal dan akhir dari kumpulan karakter tersebut."
   ]
  },
  {
   "cell_type": "code",
   "execution_count": 16,
   "id": "7e537ed6-5aec-4151-89f7-eb88c4bdb508",
   "metadata": {},
   "outputs": [
    {
     "name": "stdout",
     "output_type": "stream",
     "text": [
      "Hello, Python!\n",
      "<class 'str'>\n"
     ]
    }
   ],
   "source": [
    "w = \"Hello, Python!\"\n",
    "print(w)\n",
    "print(type(w))"
   ]
  },
  {
   "cell_type": "markdown",
   "id": "82537b4d-96ce-4f1e-94df-57ba3650aa61",
   "metadata": {},
   "source": [
    "Kode tersebut menunjukkan bagaimana string digunakan untuk menyimpan dan menampilkan teks dalam Python"
   ]
  },
  {
   "cell_type": "code",
   "execution_count": 17,
   "id": "ff229426-a157-4daa-8bfe-9d0c83df7496",
   "metadata": {},
   "outputs": [
    {
     "name": "stdout",
     "output_type": "stream",
     "text": [
      "14\n"
     ]
    }
   ],
   "source": [
    "print(len(w))"
   ]
  },
  {
   "cell_type": "markdown",
   "id": "49926b12-bb3e-479b-b635-39822156e0ba",
   "metadata": {},
   "source": [
    "Fungsi len() digunakan untuk menghitung jumlah karakter dalam sebuah string. Ini mencakup semua karakter yang diapit oleh tanda kutip, termasuk spasi, tanda baca, dan angka."
   ]
  },
  {
   "cell_type": "markdown",
   "id": "4a4adfdc-9f0b-4fb5-9ac4-7a695a20b4cb",
   "metadata": {},
   "source": [
    "Dalam Python, selain string yang berisi teks, terdapat tipe data string khusus yang disebut \"string kosong\" (empty string). \n",
    "\n",
    "String kosong tidak berisi karakter apapun. Ini berbeda dengan string yang terlihat seperti kosong karena hanya memiliki spasi, karena spasi itu sendiri merupakan sebuah karakter.\n",
    "\n",
    "Karena tidak memiliki karakter, string kosong memiliki panjang nol (0) ketika dihitung menggunakan fungsi len()."
   ]
  },
  {
   "cell_type": "code",
   "execution_count": 18,
   "id": "d7115657-d163-494e-a73a-ffce4ab52584",
   "metadata": {},
   "outputs": [
    {
     "name": "stdout",
     "output_type": "stream",
     "text": [
      "<class 'str'>\n",
      "0\n"
     ]
    }
   ],
   "source": [
    "shortest_string = \"\"\n",
    "print(type(shortest_string))\n",
    "print(len(shortest_string))"
   ]
  },
  {
   "cell_type": "code",
   "execution_count": 19,
   "id": "75e7d458-4860-434a-b3b7-db944d021e09",
   "metadata": {},
   "outputs": [
    {
     "name": "stdout",
     "output_type": "stream",
     "text": [
      "1.12321\n",
      "<class 'str'>\n"
     ]
    }
   ],
   "source": [
    "my_number = \"1.12321\"\n",
    "print(my_number)\n",
    "print(type(my_number))"
   ]
  },
  {
   "cell_type": "markdown",
   "id": "79073e35-c201-4479-b09e-1b7e54480aa4",
   "metadata": {},
   "source": [
    "Angka di dalam tanda kutip (tunggal atau ganda), itu akan dianggap sebagai string, bukan angka (float atau integer). Ini karena tanda kutip memberi tahu Python untuk memperlakukan karakter di dalamnya sebagai teks literal."
   ]
  },
  {
   "cell_type": "markdown",
   "id": "9dd69399-1c99-4843-92ee-cb8ac728321f",
   "metadata": {},
   "source": [
    "Dapat menggabungkan (floats or integers) dua buah string menggunakan operator +. Operator ini akan merangkai kedua string tersebut menjadi satu string yang lebih panjang."
   ]
  },
  {
   "cell_type": "code",
   "execution_count": 20,
   "id": "fe6ae445-cfb6-49b3-b181-7434b5b3c9ee",
   "metadata": {},
   "outputs": [
    {
     "name": "stdout",
     "output_type": "stream",
     "text": [
      "abcdef\n",
      "<class 'str'>\n"
     ]
    }
   ],
   "source": [
    "new_string = \"abc\" + \"def\"\n",
    "print(new_string)\n",
    "print(type(new_string))"
   ]
  },
  {
   "cell_type": "code",
   "execution_count": 21,
   "id": "80e52e8e-6220-4087-b131-b2a0cfea39ef",
   "metadata": {},
   "outputs": [
    {
     "name": "stdout",
     "output_type": "stream",
     "text": [
      "abcabcabc\n",
      "<class 'str'>\n"
     ]
    }
   ],
   "source": [
    "newest_string = \"abc\" * 3\n",
    "print(newest_string)\n",
    "print(type(newest_string))"
   ]
  },
  {
   "cell_type": "code",
   "execution_count": 22,
   "id": "7c73a6ce-59a1-432c-989f-5e8c96f97de2",
   "metadata": {},
   "outputs": [
    {
     "ename": "TypeError",
     "evalue": "can't multiply sequence by non-int of type 'float'",
     "output_type": "error",
     "traceback": [
      "\u001b[1;31m---------------------------------------------------------------------------\u001b[0m",
      "\u001b[1;31mTypeError\u001b[0m                                 Traceback (most recent call last)",
      "Cell \u001b[1;32mIn[22], line 1\u001b[0m\n\u001b[1;32m----> 1\u001b[0m will_not_work \u001b[38;5;241m=\u001b[39m \u001b[38;5;124m\"\u001b[39m\u001b[38;5;124mabc\u001b[39m\u001b[38;5;124m\"\u001b[39m \u001b[38;5;241m*\u001b[39m \u001b[38;5;241m3.\u001b[39m\n",
      "\u001b[1;31mTypeError\u001b[0m: can't multiply sequence by non-int of type 'float'"
     ]
    }
   ],
   "source": [
    "will_not_work = \"abc\" * 3."
   ]
  },
  {
   "cell_type": "markdown",
   "id": "34942ec7-2d01-49e9-894d-28b24556af24",
   "metadata": {},
   "source": [
    "Kode will_not_work = \"abc\" * 3 mengalikan string \"abc\" dengan 3 untuk pengulangan. \n",
    "Pada Python memiliki batasan pada panjang string yang dihasilkan. Jika string yang diulang menjadi terlalu besar, ini dapat menyebabkan kesalahan.\n",
    "Sebaiknya gunakan loop untuk jaminan pengulangan, terutama saat menangani string yang berpotensi besar."
   ]
  },
  {
   "cell_type": "markdown",
   "id": "e9e000ba-61ff-429b-a356-d584f980ea0e",
   "metadata": {},
   "source": []
  }
 ],
 "metadata": {
  "kernelspec": {
   "display_name": "Python 3 (ipykernel)",
   "language": "python",
   "name": "python3"
  },
  "language_info": {
   "codemirror_mode": {
    "name": "ipython",
    "version": 3
   },
   "file_extension": ".py",
   "mimetype": "text/x-python",
   "name": "python",
   "nbconvert_exporter": "python",
   "pygments_lexer": "ipython3",
   "version": "3.11.7"
  }
 },
 "nbformat": 4,
 "nbformat_minor": 5
}
